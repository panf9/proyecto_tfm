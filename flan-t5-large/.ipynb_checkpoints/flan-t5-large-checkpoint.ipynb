{
 "cells": [
  {
   "cell_type": "code",
   "execution_count": null,
   "id": "685cf5c9-36cb-461a-8390-c4ad81745c24",
   "metadata": {},
   "outputs": [],
   "source": [
    "import torch\n",
    "torch.cuda.empty_cache()"
   ]
  },
  {
   "cell_type": "code",
   "execution_count": null,
   "id": "b9360a13-9c10-4fcf-90ea-d0f235d9cb30",
   "metadata": {},
   "outputs": [],
   "source": [
    "# Paso 2: Importaciones\n",
    "from transformers import AutoTokenizer, AutoModelForSeq2SeqLM, Seq2SeqTrainer, Seq2SeqTrainingArguments, DataCollatorForSeq2Seq\n",
    "from datasets import load_dataset, DatasetDict\n",
    "from peft import get_peft_model, LoraConfig, TaskType\n",
    "from transformers import BitsAndBytesConfig\n",
    "import torch\n",
    "import json"
   ]
  },
  {
   "cell_type": "code",
   "execution_count": null,
   "id": "c09c139c-e35e-4ec1-b6aa-e109589415de",
   "metadata": {},
   "outputs": [],
   "source": [
    "# Paso 3: Cargar el dataset JSONL personalizado\n",
    "from datasets import load_dataset\n",
    "\n",
    "data_files = {\n",
    "    'train': 'dataset_train_filtrado.jsonl',\n",
    "    'validation': 'dataset_valid_filtrado.jsonl',\n",
    "    'test': 'dataset_test_filtrado.jsonl'\n",
    "}\n",
    "\n",
    "raw_datasets = load_dataset('json', data_files=data_files)\n",
    "\n",
    "# Mantener solo las primeras 20 filas en cada split\n",
    "#raw_datasets['train'] = raw_datasets['train'].select(range(20))\n",
    "#raw_datasets['validation'] = raw_datasets['validation'].select(range(20))\n",
    "#raw_datasets['test'] = raw_datasets['test'].select(range(20))\n",
    "\n",
    "# Opcional: verificar\n",
    "print(raw_datasets['train'][:2])"
   ]
  },
  {
   "cell_type": "code",
   "execution_count": null,
   "id": "73ff97d6-426c-454f-a6e1-8acdd3c3ba56",
   "metadata": {},
   "outputs": [],
   "source": [
    "raw_datasets.shape"
   ]
  },
  {
   "cell_type": "code",
   "execution_count": null,
   "id": "6f02cb1a-c66b-4fdb-949b-ffeccbca5ecc",
   "metadata": {},
   "outputs": [],
   "source": [
    "raw_datasets['train']"
   ]
  },
  {
   "cell_type": "code",
   "execution_count": null,
   "id": "cf817118-7250-4345-91fc-a63227ff8891",
   "metadata": {},
   "outputs": [],
   "source": [
    "raw_datasets['train']['code_clean'][:2]"
   ]
  },
  {
   "cell_type": "code",
   "execution_count": null,
   "id": "7b8a561e-995e-4656-ae56-071bdb878263",
   "metadata": {},
   "outputs": [],
   "source": [
    "raw_datasets['train']['code'][:2]"
   ]
  },
  {
   "cell_type": "code",
   "execution_count": null,
   "id": "c2e36dda-98a9-418a-8a83-cbb8173f11fd",
   "metadata": {},
   "outputs": [],
   "source": [
    "# Paso 4: Tokenizador\n",
    "model_name = \"google/flan-t5-large\"\n",
    "tokenizer = AutoTokenizer.from_pretrained(model_name)"
   ]
  },
  {
   "cell_type": "code",
   "execution_count": null,
   "id": "80716fdc-553a-467b-9bc9-9e3489b3b123",
   "metadata": {},
   "outputs": [],
   "source": [
    "max_input_length = 512\n",
    "max_target_length = 512\n"
   ]
  },
  {
   "cell_type": "code",
   "execution_count": null,
   "id": "23da5125-cc4a-4c0b-a256-a7fc515f9144",
   "metadata": {},
   "outputs": [],
   "source": [
    "def preprocess_function(example):\n",
    "    prompt = (\n",
    "        \"You are a professional Python developer. Your task is to add a clear, concise docstring and relevant inline comments \"\n",
    "        \"to the following Python function. Do not modify the structure or logic of the code. Keep formatting, indentation, and line breaks exactly as they are. \"\n",
    "        \"Return only the complete commented function, as valid Python code:\\n\\n\"\n",
    "        f\"{example['code_clean']}\\n\\n### Return the commented version below:\"\n",
    "    )\n",
    "\n",
    "    input = tokenizer(prompt, padding=\"max_length\", truncation=True, max_length=max_input_length)\n",
    "    target = tokenizer(example['code'], padding=\"max_length\", truncation=True, max_length=max_target_length)\n",
    "\n",
    "\n",
    "    input[\"labels\"] = target[\"input_ids\"]\n",
    "    return input\n"
   ]
  },
  {
   "cell_type": "code",
   "execution_count": null,
   "id": "5ab86aff-5461-421f-a5c6-32b97d27bffe",
   "metadata": {},
   "outputs": [],
   "source": [
    "tokenized_datasets = raw_datasets.map(preprocess_function, batched=False)"
   ]
  },
  {
   "cell_type": "code",
   "execution_count": null,
   "id": "94f4c867-100d-49ad-bc8a-803560197010",
   "metadata": {},
   "outputs": [],
   "source": [
    "# Paso 6: Configurar modelo en 8-bit con LoRA para ahorrar RAM\n",
    "from transformers import AutoModelForSeq2SeqLM\n",
    "\n",
    "model = AutoModelForSeq2SeqLM.from_pretrained(\n",
    "    model_name,  # o el modelo que uses\n",
    "    device_map=None,  #\"auto\",       # o {\"\": \"cpu\"} si solo CPU\n",
    "    torch_dtype=torch.float32,  # ya no es necesario usar float16\n",
    ") #.to(\"cpu\")"
   ]
  },
  {
   "cell_type": "code",
   "execution_count": null,
   "id": "c551f42f-7f0b-4fd8-a3e6-b1e58d81cdf0",
   "metadata": {
    "scrolled": true
   },
   "outputs": [],
   "source": [
    "for name, module in model.named_modules():\n",
    "    if \"DenseReluDense\" in name or \"SelfAttention\" in name:\n",
    "        print(name)\n"
   ]
  },
  {
   "cell_type": "code",
   "execution_count": null,
   "id": "71f376f5-1126-47e8-b88a-41fbf5b77ebe",
   "metadata": {},
   "outputs": [],
   "source": [
    "# Paso 7: Configurar LoRA para entrenamiento eficiente\n",
    "# usamos LoRA para entrenar solo partes del modelo eficientemente\n",
    "# segun los módulos compatibles con flan-T5\n",
    "peft_config = LoraConfig(\n",
    "    r=16,\n",
    "    lora_alpha=32,\n",
    "    target_modules = [\"q\", \"k\", \"v\", \"o\", \"wi_0\", \"wi_1\", \"wo\"],  # módulos compatibles con T5\n",
    "    lora_dropout=0.05,\n",
    "    bias=\"none\",\n",
    "    task_type=TaskType.SEQ_2_SEQ_LM\n",
    ")\n",
    "\n",
    "model = get_peft_model(model, peft_config)"
   ]
  },
  {
   "cell_type": "code",
   "execution_count": null,
   "id": "46fb796a-36c6-4206-ba11-a4b5e62822e3",
   "metadata": {},
   "outputs": [],
   "source": [
    "# Paso 8: Data collator para tareas seq2seq\n",
    "collator = DataCollatorForSeq2Seq(tokenizer, model=model)"
   ]
  },
  {
   "cell_type": "code",
   "execution_count": null,
   "id": "141214cd-ef21-49e8-a4c5-efa6fc79f804",
   "metadata": {},
   "outputs": [],
   "source": [
    "from transformers import Seq2SeqTrainingArguments, Seq2SeqTrainer\n",
    "\n",
    "# Paso 9: Argumentos de entrenamiento\n",
    "\n",
    "training_args = Seq2SeqTrainingArguments(\n",
    "    output_dir=\"flan-t5-large_model2\",\n",
    "    eval_strategy=\"epoch\",\n",
    "    save_strategy=\"epoch\",\n",
    "    learning_rate=5e-5,\n",
    "    per_device_train_batch_size=1,\n",
    "    per_device_eval_batch_size=1,\n",
    "    num_train_epochs=30,\n",
    "    save_total_limit=2,\n",
    "    predict_with_generate=True,\n",
    "    generation_max_length=512,\n",
    "    #report_to=[\"csv\"], \n",
    "    logging_dir=\"logs\",\n",
    "    logging_strategy=\"steps\",\n",
    "    logging_steps=10,\n",
    "    fp16=False,\n",
    "    push_to_hub=False,\n",
    "   \n",
    "    load_best_model_at_end=True,\n",
    "    metric_for_best_model=\"eval_loss\",\n",
    "    greater_is_better=False, \n",
    ")\n"
   ]
  },
  {
   "cell_type": "code",
   "execution_count": null,
   "id": "26ffcde2-32e5-42d3-98a7-a18e6ab94eee",
   "metadata": {
    "scrolled": true
   },
   "outputs": [],
   "source": [
    "# Paso 10: Inicializar Trainer y entrenar\n",
    "trainer = Seq2SeqTrainer(\n",
    "    model=model,\n",
    "    args=training_args,\n",
    "    train_dataset=tokenized_datasets[\"train\"],\n",
    "    eval_dataset=tokenized_datasets[\"validation\"],\n",
    "    data_collator=collator,\n",
    "    #label_names=[\"labels\"],\n",
    "    # tokenizer=tokenizer\n",
    ")\n",
    "\n",
    "trainer.train()"
   ]
  },
  {
   "cell_type": "markdown",
   "id": "43cba3f8-c542-487b-80cc-e029f301f2d8",
   "metadata": {},
   "source": [
    "## Guardando los log"
   ]
  },
  {
   "cell_type": "code",
   "execution_count": null,
   "id": "9a67fc3f-7ee5-4de7-b876-c47a2905ddf3",
   "metadata": {},
   "outputs": [],
   "source": [
    "import pandas as pd\n",
    "\n",
    "# Guardar el historial de logs\n",
    "log_history = trainer.state.log_history\n",
    "log_df = pd.DataFrame(log_history)\n",
    "\n",
    "# Guardar en CSV\n",
    "log_df.to_csv(\"training_log_2.csv\", index=False)\n",
    "print(\"Historial guardado en training_log_2.csv\")\n"
   ]
  },
  {
   "cell_type": "markdown",
   "id": "2d744aae-d7c7-45d0-bd19-0cb77b3c8837",
   "metadata": {},
   "source": [
    "## Graficando la evolución de eval_loss"
   ]
  },
  {
   "cell_type": "code",
   "execution_count": null,
   "id": "2bbb94b1-d1f7-466d-bdac-b071e788355c",
   "metadata": {},
   "outputs": [],
   "source": [
    "import pandas as pd\n",
    "import matplotlib.pyplot as plt\n",
    "\n",
    "# Leer el archivo\n",
    "log_df = pd.read_csv(\"training_log_2.csv\")\n",
    "\n",
    "# Filtrar solo entradas con eval_loss\n",
    "eval_logs = log_df[log_df[\"eval_loss\"].notna()]\n",
    "\n",
    "# Graficar\n",
    "plt.figure(figsize=(10, 6))\n",
    "plt.plot(eval_logs[\"step\"], eval_logs[\"eval_loss\"], marker=\"o\", label=\"Eval Loss\")\n",
    "plt.title(\"Evolución del Eval Loss por Step\")\n",
    "plt.xlabel(\"Step\")\n",
    "plt.ylabel(\"Eval Loss\")\n",
    "plt.grid(True)\n",
    "plt.legend()\n",
    "plt.show()\n"
   ]
  },
  {
   "cell_type": "markdown",
   "id": "564607d6-da95-4975-8166-3cb3a1e3f2b9",
   "metadata": {},
   "source": [
    "## Evaluar Métricas con BLEU, ROUGE y METEOR"
   ]
  },
  {
   "cell_type": "code",
   "execution_count": null,
   "id": "871a49d3-ef4d-4182-a0ae-abd759141796",
   "metadata": {
    "scrolled": true
   },
   "outputs": [],
   "source": [
    "pip install evaluate nltk rouge-score"
   ]
  },
  {
   "cell_type": "code",
   "execution_count": null,
   "id": "e41d54c4-6c81-4487-9211-6f4f1cfcc1a4",
   "metadata": {},
   "outputs": [],
   "source": [
    "import evaluate\n",
    "import pandas as pd\n",
    "import nltk\n",
    "nltk.download('punkt')  # necesario para METEOR\n",
    "\n",
    "# Cargar tu dataset comentado\n",
    "df = pd.read_json(\"dataset_train_filtrado.jsonl\", lines=True)\n",
    "\n",
    "# Referencias y predicciones\n",
    "references = df[\"code\"].tolist()\n",
    "predictions = df[\"code_clean\"].tolist()\n",
    "\n",
    "# Inicializar métricas\n",
    "bleu = evaluate.load(\"bleu\")\n",
    "rouge = evaluate.load(\"rouge\")\n",
    "meteor = evaluate.load(\"meteor\")\n",
    "\n",
    "# Evaluar\n",
    "bleu_score = bleu.compute(predictions=predictions, references=references)\n",
    "rouge_score = rouge.compute(predictions=predictions, references=references)\n",
    "meteor_score = meteor.compute(predictions=predictions, references=references)\n",
    "\n",
    "print(\"BLEU:\", bleu_score)\n",
    "print(\"ROUGE:\", rouge_score)\n",
    "print(\"METEOR:\", meteor_score)\n"
   ]
  },
  {
   "cell_type": "code",
   "execution_count": null,
   "id": "5a8891b9-7dbd-4a87-873b-857aa6ec36e4",
   "metadata": {
    "scrolled": true
   },
   "outputs": [],
   "source": [
    "!pip install codebleu\n"
   ]
  },
  {
   "cell_type": "code",
   "execution_count": null,
   "id": "60727fcc-4ce4-4a77-9229-cd8bedf9f370",
   "metadata": {},
   "outputs": [],
   "source": [
    "import pandas as pd\n",
    "from transformers import AutoTokenizer, AutoModelForSeq2SeqLM\n",
    "import torch\n",
    "from tqdm import tqdm\n",
    "import nltk\n",
    "import evaluate\n",
    "\n",
    "nltk.download(\"punkt\")  # Necesario para METEOR\n",
    "\n",
    "# Cargar modelo y tokenizer\n",
    "model_path = \"flan-t5-best-model-2\"\n",
    "tokenizer = AutoTokenizer.from_pretrained(model_path)\n",
    "model = AutoModelForSeq2SeqLM.from_pretrained(model_path).to(\"cuda\" if torch.cuda.is_available() else \"cpu\")\n",
    "model.eval()\n",
    "\n",
    "# Cargar dataset\n",
    "df = pd.read_json(\"dataset_train_filtrado.jsonl\", lines=True)\n",
    "df = df[:100]\n",
    "\n",
    "# Generar predicciones\n",
    "preds = []\n",
    "for code_clean in tqdm(df[\"code_clean\"].tolist(), desc=\"Generando comentarios\"):\n",
    "    prompt = f\"Actúa como un desarrollador senior. Agrega docstring y comentarios al siguiente código manteniendo su formato original:\\n\\n{code_clean}\"\n",
    "    inputs = tokenizer(prompt, return_tensors=\"pt\", padding=True, truncation=True, max_length=512).to(model.device)\n",
    "    outputs = model.generate(**inputs, max_length=512)\n",
    "    pred = tokenizer.decode(outputs[0], skip_special_tokens=True)\n",
    "    preds.append(pred)\n",
    "\n",
    "# Referencias\n",
    "refs = df[\"code\"].tolist()\n",
    "\n",
    "# Evaluar con métricas estándar\n",
    "bleu = evaluate.load(\"bleu\")\n",
    "rouge = evaluate.load(\"rouge\")\n",
    "meteor = evaluate.load(\"meteor\")\n",
    "\n",
    "bleu_score = bleu.compute(predictions=preds, references=refs)\n",
    "rouge_score = rouge.compute(predictions=preds, references=refs)\n",
    "meteor_score = meteor.compute(predictions=preds, references=refs)\n",
    "\n",
    "print(\"BLEU:\", bleu_score)\n",
    "print(\"ROUGE:\", rouge_score)\n",
    "print(\"METEOR:\", meteor_score)\n"
   ]
  },
  {
   "cell_type": "markdown",
   "id": "235fbba2-f935-4bec-853b-6bf4eaf81740",
   "metadata": {},
   "source": [
    "## Guardar el modelo manualmente al final"
   ]
  },
  {
   "cell_type": "code",
   "execution_count": null,
   "id": "67dd384f-ad49-4eb9-935f-f4866dcbf710",
   "metadata": {},
   "outputs": [],
   "source": [
    "# Esto guarda el modelo y el tokenizer\n",
    "trainer.save_model(\"flan-t5-best-model-2\")  \n",
    "tokenizer.save_pretrained(\"flan-t5-best-model-2\")\n"
   ]
  },
  {
   "cell_type": "markdown",
   "id": "6e7a8880-d55d-4a6b-a2c1-d72149d8bd52",
   "metadata": {},
   "source": [
    "## Cargar el modelo luego para hacer inferencias"
   ]
  },
  {
   "cell_type": "code",
   "execution_count": null,
   "id": "14dc4e7b-62a5-4806-9b5f-357dec474ce3",
   "metadata": {
    "scrolled": true
   },
   "outputs": [],
   "source": [
    "from transformers import AutoTokenizer, AutoModelForSeq2SeqLM\n",
    "\n",
    "model = AutoModelForSeq2SeqLM.from_pretrained(\"flan-t5-best-model-2\")\n",
    "tokenizer = AutoTokenizer.from_pretrained(\"flan-t5-best-model-2\")\n",
    "\n",
    "model.eval()  # modo evaluación\n"
   ]
  },
  {
   "cell_type": "code",
   "execution_count": null,
   "id": "d379df3e-b725-4d49-b59a-991e3799042e",
   "metadata": {},
   "outputs": [],
   "source": [
    "def generate_comment(code_clean):\n",
    "    prompt = f\"Act as a senior Python developer. Add docstring and then return the clean and formatted version of this Python function:\\n\\n{code_clean}\"\n",
    "    inputs = tokenizer(prompt, return_tensors=\"pt\", truncation=True).to(model.device)\n",
    "    outputs = model.generate(**inputs, max_length=512)\n",
    "    return tokenizer.decode(outputs[0], skip_special_tokens=True)\n",
    "\n",
    "# Ejemplo\n",
    "test_code = \"\"\"\n",
    "def is_prime(n):\n",
    "    if n <= 1:\n",
    "        return False\n",
    "    for i in range(2, int(n ** 0.5) + 1):\n",
    "        if n % i == 0:\n",
    "            return False\n",
    "    return True\"\"\"\n",
    "print(generate_comment(test_code))\n"
   ]
  },
  {
   "cell_type": "code",
   "execution_count": null,
   "id": "3641b360-f474-4c04-8e6c-eda8ff7c9a26",
   "metadata": {},
   "outputs": [],
   "source": []
  }
 ],
 "metadata": {
  "kernelspec": {
   "display_name": "Python 3 (ipykernel)",
   "language": "python",
   "name": "python3"
  },
  "language_info": {
   "codemirror_mode": {
    "name": "ipython",
    "version": 3
   },
   "file_extension": ".py",
   "mimetype": "text/x-python",
   "name": "python",
   "nbconvert_exporter": "python",
   "pygments_lexer": "ipython3",
   "version": "3.12.11"
  }
 },
 "nbformat": 4,
 "nbformat_minor": 5
}
